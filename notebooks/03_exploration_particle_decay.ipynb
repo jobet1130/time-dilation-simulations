{
 "cells": [
  {
   "cell_type": "markdown",
   "id": "41608162",
   "metadata": {},
   "source": [
    "# ☢️ Particle Decay and Time Dilation\n",
    "\n",
    "This notebook simulates how relativistic time dilation affects the observed **decay time** of fast-moving particles, particularly **muons** produced in Earth’s upper atmosphere.\n",
    "\n",
    "Due to their high speed (close to the speed of light), muons experience **slower time in their rest frame**, allowing them to reach the surface of Earth — despite their extremely short lifespans.\n",
    "\n",
    "This is one of the most compelling real-world validations of **Einstein’s Special Relativity**."
   ]
  }
 ],
 "metadata": {
  "language_info": {
   "name": "python"
  }
 },
 "nbformat": 4,
 "nbformat_minor": 5
}
