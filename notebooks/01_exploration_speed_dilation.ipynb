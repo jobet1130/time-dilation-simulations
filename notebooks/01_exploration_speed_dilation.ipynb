{
 "cells": [
  {
   "cell_type": "markdown",
   "id": "82839cd4",
   "metadata": {},
   "source": [
    "# 🚀 Time Dilation Due to High-Speed Motion\n",
    "\n",
    "This notebook dives deep into the effects of **special relativistic time dilation** — how time stretches for objects moving at velocities close to the speed of light. This phenomenon is central to **Special Relativity**, impacting particle physics, spaceflight, and technologies like GPS.\n",
    "\n",
    "We will:\n",
    "- Derive and compute the **Lorentz factor (γ)**\n",
    "- Simulate time dilation at velocities from 0.1c to 0.99c\n",
    "- Visualize the relationship between speed and relativistic time\n",
    "- Analyze real-world implications and edge cases\n"
   ]
  },
  {
   "cell_type": "code",
   "execution_count": null,
   "id": "d8f5cdd7",
   "metadata": {},
   "outputs": [],
   "source": [
    "import numpy as np\n",
    "import pandas as np\n",
    "import matplotlib.pyplot as plt \n",
    "\n",
    "# Constants\n",
    "c = 299_792_458  # Speed of light in m/s\n",
    "t_proper = 1.0   # Proper time in seconds (e.g., time measured by an observer at rest)"
   ]
  }
 ],
 "metadata": {
  "kernelspec": {
   "display_name": "base",
   "language": "python",
   "name": "python3"
  },
  "language_info": {
   "name": "python",
   "version": "3.12.7"
  }
 },
 "nbformat": 4,
 "nbformat_minor": 5
}
