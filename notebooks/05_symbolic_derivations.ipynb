{
 "cells": [
  {
   "cell_type": "markdown",
   "id": "9ecf17e6",
   "metadata": {},
   "source": [
    "# 🧮 Symbolic Derivations of Time Dilation Models\n",
    "\n",
    "This notebook derives the foundational equations of **time dilation** using symbolic computation.\n",
    "\n",
    "We explore:\n",
    "\n",
    "- **Lorentz Time Dilation** from Special Relativity\n",
    "- **Gravitational Time Dilation** from the Schwarzschild Metric\n",
    "- **Time Dilation in Particle Decay** under relativistic speeds\n",
    "\n",
    "These symbolic forms are used to:\n",
    "- Validate our numerical simulations\n",
    "- Provide theoretical insights\n",
    "- Support scientific transparency and reproducibility"
   ]
  },
  {
   "cell_type": "code",
   "execution_count": 11,
   "id": "78d474bb",
   "metadata": {},
   "outputs": [],
   "source": [
    "# Import symbolic math library\n",
    "import sympy as sp\n",
    "\n",
    "# Enable pretty LaTeX-style rendering\n",
    "sp.init_printing(use_latex='mathjax')\n"
   ]
  },
  {
   "cell_type": "markdown",
   "id": "860f9d4f",
   "metadata": {},
   "source": [
    "## ⚛️ Lorentz Time Dilation\n",
    "\n",
    "When an object moves at a significant fraction of the speed of light, time appears to **slow down** from the perspective of a stationary observer.\n",
    "\n",
    "This is given by the **Lorentz time dilation** formula:\n",
    "\n",
    "\\[\n",
    "t = \\gamma \\cdot t_0 = \\frac{t_0}{\\sqrt{1 - \\frac{v^2}{c^2}}}\n",
    "\\]\n",
    "\n",
    "Where:\n",
    "- \\( t_0 \\) is the **proper time** (measured in the moving object's frame)\n",
    "- \\( t \\) is the **dilated time** (measured by an external observer)\n",
    "- \\( v \\) is the relative velocity\n",
    "- \\( c \\) is the speed of light\n"
   ]
  },
  {
   "cell_type": "code",
   "execution_count": 12,
   "id": "9f837a3d",
   "metadata": {},
   "outputs": [
    {
     "data": {
      "text/latex": [
       "$\\displaystyle \\frac{t_{0}}{\\sqrt{1 - \\frac{v^{2}}{c^{2}}}}$"
      ],
      "text/plain": [
       "      t₀      \n",
       "──────────────\n",
       "      ________\n",
       "     ╱      2 \n",
       "    ╱      v  \n",
       "   ╱   1 - ── \n",
       "  ╱         2 \n",
       "╲╱         c  "
      ]
     },
     "execution_count": 12,
     "metadata": {},
     "output_type": "execute_result"
    }
   ],
   "source": [
    "# Define symbols\n",
    "t0, v, c = sp.symbols('t_0 v c', real=True, positive=True)\n",
    "\n",
    "# Define the Lorentz factor\n",
    "gamma = 1 / sp.sqrt(1 - (v**2 / c**2))\n",
    "\n",
    "# Derive dilated time\n",
    "t = gamma * t0\n",
    "t\n"
   ]
  },
  {
   "cell_type": "markdown",
   "id": "55ca32ac",
   "metadata": {},
   "source": [
    "## 🌌 Gravitational Time Dilation\n",
    "\n",
    "General Relativity predicts that time slows down in strong gravitational fields.\n",
    "\n",
    "For a non-rotating spherical mass (e.g., black hole), this is described by the **Schwarzschild solution**:\n",
    "\n",
    "\\[\n",
    "t = t_0 \\cdot \\sqrt{1 - \\frac{2GM}{rc^2}}\n",
    "\\]\n",
    "\n",
    "Where:\n",
    "- \\( G \\) is the **gravitational constant**\n",
    "- \\( M \\) is the **mass of the object**\n",
    "- \\( r \\) is the **radial distance** from the center of mass\n",
    "- \\( t_0 \\) is the **proper time** near the mass\n"
   ]
  },
  {
   "cell_type": "code",
   "execution_count": 13,
   "id": "738de602",
   "metadata": {},
   "outputs": [
    {
     "data": {
      "text/latex": [
       "$\\displaystyle t_{0} \\sqrt{- \\frac{2 G M}{c^{2} r} + 1}$"
      ],
      "text/plain": [
       "        _____________\n",
       "       ╱   2⋅G⋅M     \n",
       "t₀⋅   ╱  - ───── + 1 \n",
       "     ╱      2        \n",
       "   ╲╱      c ⋅r      "
      ]
     },
     "execution_count": 13,
     "metadata": {},
     "output_type": "execute_result"
    }
   ],
   "source": [
    "# Define additional symbols\n",
    "G, M, r = sp.symbols('G M r', real=True, positive=True)\n",
    "\n",
    "# Gravitational time dilation formula\n",
    "t_gravity = t0 * sp.sqrt(1 - (2 * G * M) / (r * c**2))\n",
    "t_gravity"
   ]
  },
  {
   "cell_type": "markdown",
   "id": "13fd3f7d",
   "metadata": {},
   "source": [
    "## 🧬 Relativistic Particle Decay\n",
    "\n",
    "Particles like **muons** created in the upper atmosphere decay more slowly when moving close to the speed of light.\n",
    "\n",
    "Due to time dilation, their observed lifetime in the lab frame is:\n",
    "\n",
    "\\[\n",
    "t = \\gamma \\cdot \\tau\n",
    "\\]\n",
    "\n",
    "Where:\n",
    "- \\( \\tau \\) is the **proper lifetime** of the particle (in its rest frame)\n",
    "- \\( \\gamma \\) is the **Lorentz factor**\n",
    "- \\( t \\) is the **observed lifetime** in the lab frame\n"
   ]
  },
  {
   "cell_type": "code",
   "execution_count": 14,
   "id": "038c6b71",
   "metadata": {},
   "outputs": [
    {
     "data": {
      "text/latex": [
       "$\\displaystyle \\frac{\\tau}{\\sqrt{1 - \\frac{v^{2}}{c^{2}}}}$"
      ],
      "text/plain": [
       "      τ       \n",
       "──────────────\n",
       "      ________\n",
       "     ╱      2 \n",
       "    ╱      v  \n",
       "   ╱   1 - ── \n",
       "  ╱         2 \n",
       "╲╱         c  "
      ]
     },
     "execution_count": 14,
     "metadata": {},
     "output_type": "execute_result"
    }
   ],
   "source": [
    "# Particle proper lifetime\n",
    "tau = sp.Symbol('tau', real=True, positive=True)\n",
    "\n",
    "# Observed (dilated) lifetime\n",
    "t_decay = gamma * tau\n",
    "t_decay"
   ]
  },
  {
   "cell_type": "markdown",
   "id": "393e7aaf",
   "metadata": {},
   "source": [
    "## 🔍 Physical Limits and Relativistic Boundaries\n",
    "\n",
    "### 🧪 Special Relativity:\n",
    "As \\( v \\rightarrow c \\), the Lorentz factor \\( \\gamma \\rightarrow \\infty \\)\n",
    "\n",
    "\\[\n",
    "\\lim_{v \\to c} \\gamma = \\infty\n",
    "\\]\n",
    "\n",
    "This implies time slows dramatically for high-speed objects.\n",
    "\n",
    "---\n",
    "\n",
    "### 🌑 General Relativity:\n",
    "As \\( r \\rightarrow r_s = \\frac{2GM}{c^2} \\), the gravitational time dilation goes to zero:\n",
    "\n",
    "\\[\n",
    "\\lim_{r \\to r_s} t = 0\n",
    "\\]\n",
    "\n",
    "This marks the **event horizon** of a black hole. From an outside observer's perspective, time halts at the event horizon.\n"
   ]
  },
  {
   "cell_type": "code",
   "execution_count": 15,
   "id": "a99a8a4c",
   "metadata": {},
   "outputs": [
    {
     "data": {
      "text/latex": [
       "$\\displaystyle \\lim_{v \\to c^+} \\frac{1}{\\sqrt{1 - \\frac{v^{2}}{c^{2}}}} = - \\infty i$"
      ],
      "text/plain": [
       "           1              \n",
       " lim ────────────── = -∞⋅ⅈ\n",
       "v─→c⁺      ________       \n",
       "          ╱      2        \n",
       "         ╱      v         \n",
       "        ╱   1 - ──        \n",
       "       ╱         2        \n",
       "     ╲╱         c         "
      ]
     },
     "metadata": {},
     "output_type": "display_data"
    },
    {
     "data": {
      "text/latex": [
       "$\\displaystyle \\lim_{r \\to \\frac{2 G M}{c^{2}}^+}\\left(t_{0} \\sqrt{- \\frac{2 G M}{c^{2} r} + 1}\\right) = 0$"
      ],
      "text/plain": [
       "         ⎛        _____________⎞    \n",
       "         ⎜       ╱   2⋅G⋅M     ⎟    \n",
       "   lim   ⎜t₀⋅   ╱  - ───── + 1 ⎟ = 0\n",
       "   2⋅G⋅M ⎜     ╱      2        ⎟    \n",
       "r─→─────⁺⎝   ╲╱      c ⋅r      ⎠    \n",
       "     2                              \n",
       "    c                               "
      ]
     },
     "metadata": {},
     "output_type": "display_data"
    }
   ],
   "source": [
    "# Schwarzschild radius\n",
    "r_s = 2 * G * M / c**2\n",
    "\n",
    "# Limit of Lorentz factor as v → c\n",
    "limit_lorentz = sp.limit(gamma, v, c)\n",
    "display(sp.Eq(sp.Limit(gamma, v, c), limit_lorentz))\n",
    "\n",
    "# Limit of gravitational time dilation as r → r_s\n",
    "limit_gravity = sp.limit(t_gravity, r, r_s)\n",
    "display(sp.Eq(sp.Limit(t_gravity, r, r_s), limit_gravity))\n"
   ]
  },
  {
   "cell_type": "markdown",
   "id": "43156824",
   "metadata": {},
   "source": [
    "## ✅ Summary Table\n",
    "\n",
    "| Time Dilation Model        | Formula | Behavior |\n",
    "|----------------------------|---------|----------|\n",
    "| **Special Relativity**     | \\( t = \\frac{t_0}{\\sqrt{1 - \\frac{v^2}{c^2}}} \\) | Time expands as velocity increases |\n",
    "| **General Relativity**     | \\( t = t_0 \\sqrt{1 - \\frac{2GM}{rc^2}} \\)        | Time slows near massive objects |\n",
    "| **Particle Decay Dilation**| \\( t = \\gamma \\cdot \\tau \\)                     | Lifetime increases at relativistic speeds |\n",
    "\n",
    "These symbolic derivations form the mathematical core of our datasets and simulations. They are analytically sound, scientifically grounded, and computationally reproducible.\n"
   ]
  }
 ],
 "metadata": {
  "kernelspec": {
   "display_name": "base",
   "language": "python",
   "name": "python3"
  },
  "language_info": {
   "codemirror_mode": {
    "name": "ipython",
    "version": 3
   },
   "file_extension": ".py",
   "mimetype": "text/x-python",
   "name": "python",
   "nbconvert_exporter": "python",
   "pygments_lexer": "ipython3",
   "version": "3.12.7"
  }
 },
 "nbformat": 4,
 "nbformat_minor": 5
}
